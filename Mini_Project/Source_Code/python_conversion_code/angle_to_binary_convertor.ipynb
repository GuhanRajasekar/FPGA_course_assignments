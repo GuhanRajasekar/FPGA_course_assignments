{
 "cells": [
  {
   "cell_type": "code",
   "execution_count": 21,
   "metadata": {},
   "outputs": [],
   "source": [
    "import numpy as np"
   ]
  },
  {
   "cell_type": "markdown",
   "metadata": {},
   "source": [
    "# Integer degrees to binary for sin and cos"
   ]
  },
  {
   "cell_type": "code",
   "execution_count": 6,
   "metadata": {},
   "outputs": [],
   "source": [
    "# Generate the binary representation of angles in degress from 0 to 360 degrees\n",
    "with open(\"angles_binary.txt\",\"w\") as fh:\n",
    "    for i in range(361):\n",
    "        # print(\"{:016b}0000\".format(i))\n",
    "        fh.writelines([\"#15 target_angle = 20'b{0:016b}0000; //{1} degrees\\n\".format(i,i)])"
   ]
  },
  {
   "cell_type": "markdown",
   "metadata": {},
   "source": [
    "# Fractional decimal to binary for sinh and cosh"
   ]
  },
  {
   "cell_type": "code",
   "execution_count": 60,
   "metadata": {},
   "outputs": [],
   "source": [
    "# Generate the binary representation of angles in degress from 0 to 360 degrees\n",
    "with open(\"hyperbolic_input_binary.txt\",\"w\") as fh:\n",
    "    for i in np.linspace(-1,1,22):\n",
    "        # print(i)\n",
    "        x = int(i*2**16)\n",
    "        if (x<0):\n",
    "            x = 2**32 + x\n",
    "        # print(\"{0:032b}\".format(x))\n",
    "        fh.writelines([\"#15 target_angle = 32'b{0:032b}; //{1} radians\\n\".format(x,i)])"
   ]
  }
 ],
 "metadata": {
  "kernelspec": {
   "display_name": "Python 3",
   "language": "python",
   "name": "python3"
  },
  "language_info": {
   "codemirror_mode": {
    "name": "ipython",
    "version": 3
   },
   "file_extension": ".py",
   "mimetype": "text/x-python",
   "name": "python",
   "nbconvert_exporter": "python",
   "pygments_lexer": "ipython3",
   "version": "3.8.7"
  }
 },
 "nbformat": 4,
 "nbformat_minor": 2
}
