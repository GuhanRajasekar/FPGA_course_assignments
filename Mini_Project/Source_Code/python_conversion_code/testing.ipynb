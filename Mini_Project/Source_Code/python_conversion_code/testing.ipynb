{
 "cells": [
  {
   "cell_type": "code",
   "execution_count": 17,
   "metadata": {},
   "outputs": [],
   "source": [
    "import matplotlib.pyplot as plt\n",
    "import numpy as np\n",
    "import pandas as pd\n",
    "\n",
    "file_loc = \"F:\\PhD_IISc\\Coursework\\Jan_2024\\FPGA\\FPGA_course_assignments\\Mini_Project\\Source_Code\\Data\\cosh_data.txt\"\n",
    "fh = pd.read_csv(file_loc,delim_whitespace=True,skiprows=2,header=None,dtype=str)"
   ]
  },
  {
   "cell_type": "code",
   "execution_count": 24,
   "metadata": {},
   "outputs": [],
   "source": [
    "cosh_values_binary = fh[:][0].to_numpy()\n",
    "cosh_values_decimal = np.zeros(len(cosh_values_binary))\n",
    "for i in range(len(cosh_values_binary)):\n",
    "    cosh_values_decimal[i] = int(cosh_values_binary[i],2)\n",
    "cosh_values_decimal = cosh_values_decimal/(2**16)\n",
    "\n",
    "target_angle = fh[:][1].to_numpy().astype(int)\n",
    "target_angle = target_angle/(2**16)\n"
   ]
  }
 ],
 "metadata": {
  "kernelspec": {
   "display_name": "Python 3",
   "language": "python",
   "name": "python3"
  },
  "language_info": {
   "codemirror_mode": {
    "name": "ipython",
    "version": 3
   },
   "file_extension": ".py",
   "mimetype": "text/x-python",
   "name": "python",
   "nbconvert_exporter": "python",
   "pygments_lexer": "ipython3",
   "version": "3.8.7"
  }
 },
 "nbformat": 4,
 "nbformat_minor": 2
}
